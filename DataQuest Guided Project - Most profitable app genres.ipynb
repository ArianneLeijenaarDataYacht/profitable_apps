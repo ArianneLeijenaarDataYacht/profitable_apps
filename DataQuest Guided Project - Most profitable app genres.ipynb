{
 "cells": [
  {
   "cell_type": "markdown",
   "metadata": {},
   "source": [
    "Attract more users to your app\n",
    "Data analysis of free Android and iOS mobile app types available on Google Play and in the App Store\n",
    "This project relates to app (developing) companies that wish to get insight into the types of apps that attract most users. Information about types of free apps and user rates will be given in a compact matter.\n",
    "At the end of this report, you will know which category or type of free app is most likely to attract the most engaged users and thus are most profitable for adds and commercials. This projects helps you as an app developer understand what type of apps are most likely to attract more users."
   ]
  },
  {
   "cell_type": "code",
   "execution_count": null,
   "metadata": {},
   "outputs": [],
   "source": [
    "# Opened the Apple Apps Dataset\n",
    "opened_file = open ('AppleStore.csv')\n",
    "from csv import reader \n",
    "read_file = reader (opened_file)\n",
    "ios = list (read_file)\n",
    "ios_header = ios [0]\n",
    "ios = ios [1:]\n",
    "\n",
    "# Opened the Google Apps Dataset\n",
    "opened_file = open ('googleplaystore.csv')\n",
    "from csv import reader\n",
    "read_file = reader (opened_file)\n",
    "android = list (read_file)\n",
    "android_header = android [0]\n",
    "android = android [1:]"
   ]
  },
  {
   "cell_type": "code",
   "execution_count": null,
   "metadata": {},
   "outputs": [],
   "source": [
    "# Writing a definition that allows to explore datarows\n",
    "def explore_data (dataset, start, end, rows_and_columns=False):\n",
    "    dataset_slice = dataset [start:end]\n",
    "    for row in dataset_slice:\n",
    "        print (row)\n",
    "        print ('\\n') # Adds an empty line between rows\n",
    "\n",
    "# Writing a definition that allows to explore the number of rows and columns      \n",
    "    if rows_and_columns:\n",
    "        print ('Number of rows:', len(dataset))\n",
    "        print ('Number of columns:', len(dataset[0]))\n",
    "\n",
    "# Print the Google dataset headers and explore the first few rows of the dataset\n",
    "print (android_header)\n",
    "print ('/n')\n",
    "explore_data(android, 0, 3, True)"
   ]
  },
  {
   "cell_type": "code",
   "execution_count": null,
   "metadata": {},
   "outputs": [],
   "source": [
    "# The code above is designed to extract rows and columns from the Apple apps store database\n",
    "# and the Google apps store database, so that the contents can be used for analysis. \\\n",
    "# The following rows and columns are useful:\n",
    "\n",
    "# Apple apps database\n",
    "# 'track_name'         - This lists the name of the app\n",
    "# 'price'              - To gather the apps that are free\n",
    "# 'rating_count_tot'   - Number of raters; gives an indication about the number of users\n",
    "# 'primte_genre'       - States the type of app, or category of the app\n",
    "\n",
    "# Google apps database\n",
    "# 'App'                - This lists the name of the app\n",
    "# 'Price'              - To gather the apps that are free\n",
    "# 'Installs'            - Number of device installations. Gives an indication about the number of users\n",
    "# Category'            - States the type of app, or category of the app"
   ]
  },
  {
   "cell_type": "code",
   "execution_count": null,
   "metadata": {},
   "outputs": [],
   "source": [
    "# Print the Apple dataset headers and explore the first few rows of the dataset\n",
    "print (ios_header)\n",
    "print ('\\n')\n",
    "explore_data (ios, 0, 3, True)"
   ]
  },
  {
   "cell_type": "code",
   "execution_count": null,
   "metadata": {},
   "outputs": [],
   "source": [
    "# Checking whether row 10472 is incorrect\n",
    "print (google_apps_data [10472])\n",
    "print (len (google_apps_data))"
   ]
  },
  {
   "cell_type": "code",
   "execution_count": null,
   "metadata": {},
   "outputs": [],
   "source": [
    "# Deleting row 10472\n",
    "print (len(android))\n",
    "del (android [10472])\n",
    "print (len (android))"
   ]
  },
  {
   "cell_type": "code",
   "execution_count": null,
   "metadata": {},
   "outputs": [],
   "source": [
    "# Checking the Google dataset for duplicate entries\n",
    "for app in android:\n",
    "    name = app [0]\n",
    "    if name == 'Instagram':\n",
    "        print (app)"
   ]
  },
  {
   "cell_type": "code",
   "execution_count": null,
   "metadata": {},
   "outputs": [],
   "source": [
    "# Creating empty lists for duplicate and unique entries\n",
    "duplicate_apps = []\n",
    "unique_apps = []\n",
    "\n",
    "# Looping through the Google dataset to assign the duplicate and unique\n",
    "# apps to the empty lists\n",
    "for app in android:\n",
    "    name = app [0]\n",
    "    if name in unique_apps:\n",
    "        duplicate_apps.append(name)\n",
    "    else:\n",
    "        unique_apps.append(name)\n",
    "\n",
    "# Checking how much entries are in the duplicate and the unique app lists\n",
    "print ('Number of duplicate apps: ', len (duplicate_apps))\n",
    "print ('/n')\n",
    "print ('Examples of duplicate apps: ', (duplicate_apps[:15]))"
   ]
  },
  {
   "cell_type": "code",
   "execution_count": null,
   "metadata": {},
   "outputs": [],
   "source": [
    "# Creating a dictionary to display the number of reviews for each app\n",
    "reviews_max = {}\n",
    "\n",
    "# Loop through the Google data set to assign the data to the dictionary\n",
    "for app in android:\n",
    "    name = app[0]\n",
    "    n_reviews = float (app[3])\n",
    "\n",
    "    if name in reviews_max and reviews_max[name] < n_reviews:\n",
    "        reviews_max[name] = n_reviews\n",
    "    \n",
    "    elif name not in reviews_max:\n",
    "        reviews_max[name] = n_reviews"
   ]
  },
  {
   "cell_type": "code",
   "execution_count": null,
   "metadata": {},
   "outputs": [],
   "source": [
    "# Measuring the length of the dictionary\n",
    "print ('Expected length: ', len(android) - 1181)\n",
    "print ('Actual length: ', len(reviews_max))"
   ]
  },
  {
   "cell_type": "code",
   "execution_count": null,
   "metadata": {},
   "outputs": [],
   "source": [
    "# Using the reviews_max dictionary to remove duplicate rows\n",
    "android_clean = []\n",
    "already_added = []\n",
    "\n",
    "for app in google_apps_data [1:]:\n",
    "    name = app [0]\n",
    "    n_reviews = float (app[3])\n",
    "    \n",
    "    if (reviews_max[name] == n_reviews) and (name not in already_added):\n",
    "        android_clean.append(app)\n",
    "        already_added.append(name)"
   ]
  },
  {
   "cell_type": "code",
   "execution_count": null,
   "metadata": {},
   "outputs": [],
   "source": [
    "# Exploring the clean Google data set\n",
    "explore_data (android_clean, 0, 3, True)"
   ]
  },
  {
   "cell_type": "code",
   "execution_count": null,
   "metadata": {},
   "outputs": [],
   "source": [
    "# Writing a function that takes in a string and returns False\n",
    "def is_english (string):\n",
    "    for character in string:\n",
    "        if ord(character) > 127:\n",
    "            return False\n",
    "        \n",
    "    return True\n",
    "\n",
    "print (is_english ('Instagram'))\n",
    "print (is_english ('爱奇艺PPS -《欢乐颂2》电视剧热播'))\n",
    "print (is_english ('Docs To Go™ Free Office Suite'))\n",
    "print (is_english ('Instachat 😜'))\n",
    "\n",
    "print (ord('™'))\n",
    "print (ord('😜'))"
   ]
  },
  {
   "cell_type": "code",
   "execution_count": null,
   "metadata": {},
   "outputs": [],
   "source": [
    "# Using the function to check whether it works to delete non-English apps\n",
    "def is_english (string):\n",
    "    non_ascii = 0\n",
    "    \n",
    "    for character in string:\n",
    "        if ord(character) > 127:\n",
    "            non_ascii += 1\n",
    "        \n",
    "    if non_ascii > 3:\n",
    "        return False\n",
    "    else:\n",
    "        return True\n",
    "\n",
    "print (is_english ('Docs To Go™ Free Office Suite'))\n",
    "print (is_english ('Instachat 😜'))"
   ]
  },
  {
   "cell_type": "code",
   "execution_count": null,
   "metadata": {},
   "outputs": [],
   "source": [
    "# Creating empty lists to assign the English-only apps to \n",
    "android_english = []\n",
    "ios_english = []\n",
    "\n",
    "# Loop through the Google data and add the English apps to the list\n",
    "for app in android_clean:\n",
    "    name = app[0]\n",
    "    if is_english(name):\n",
    "        android_english.append(app)\n",
    "\n",
    "# Loop through the Apple data and add the English apps to the list\n",
    "for app in ios:\n",
    "    name = app [1]\n",
    "    if is_english(name):\n",
    "        ios_english.append(app)\n",
    "\n",
    "# Explore the new lists and the data \n",
    "explore_data(android_english, 0, 3, True)\n",
    "print ('\\n')\n",
    "explore_data (ios_english, 0, 3, True)"
   ]
  },
  {
   "cell_type": "code",
   "execution_count": null,
   "metadata": {},
   "outputs": [],
   "source": [
    "# Creating empty lists to assign the free apps to the lists\n",
    "android_final = []\n",
    "ios_final = []\n",
    "\n",
    "# Assigning the free English apps in the Google datalist to the new list\n",
    "for app in android_english:\n",
    "    price = app[7]\n",
    "    if price == '0':\n",
    "        android_final.append(app)\n",
    "\n",
    "# Assigning the free English apps in the Apple datalist to the new list        \n",
    "for app in ios_english:\n",
    "    price = app[4]\n",
    "    if price == '0.0':\n",
    "        ios_final.append(app)\n",
    "\n",
    "# Print the length of the final clean datalists        \n",
    "print(len(android_final))\n",
    "print(len(ios_final))"
   ]
  },
  {
   "cell_type": "code",
   "execution_count": null,
   "metadata": {},
   "outputs": [],
   "source": [
    "# Thus far, the Google and Apple datasets are cleaned from:\n",
    "# - Inaccurate data\n",
    "# - Duplicate data entries\n",
    "# - Non-English apps\n",
    "# - Non-free apps"
   ]
  },
  {
   "cell_type": "code",
   "execution_count": null,
   "metadata": {},
   "outputs": [],
   "source": [
    "# Created a function that can return the frequency of any column\n",
    "def freq_table(dataset, index):\n",
    "    table = {}\n",
    "    total = 0\n",
    "    \n",
    "    for row in dataset:\n",
    "        total += 1\n",
    "        value = row[index]\n",
    "        if value in table:\n",
    "            table[value] += 1\n",
    "        else:\n",
    "            table[value] = 1\n",
    "    \n",
    "    table_percentages = {}\n",
    "    for key in table:\n",
    "        percentage = (table[key] / total) * 100\n",
    "        table_percentages[key] = percentage \n",
    "    \n",
    "    return table_percentages\n",
    "\n",
    "# Definition that is able to display the frequency table of columns\n",
    "def display_table(dataset, index):\n",
    "    table = freq_table(dataset, index)\n",
    "    table_display = []\n",
    "    for key in table:\n",
    "        key_val_as_tuple = (table[key], key)\n",
    "        table_display.append(key_val_as_tuple)\n",
    "        \n",
    "    table_sorted = sorted(table_display, reverse = True)\n",
    "    for entry in table_sorted: \n",
    "        print(entry[1], ':', entry[0])"
   ]
  },
  {
   "cell_type": "code",
   "execution_count": null,
   "metadata": {},
   "outputs": [],
   "source": [
    "# Display the frequency table of prime_genre\n",
    "display_table(ios_final, -5)\n",
    "        print(entry[1], ':', entry[0])"
   ]
  },
  {
   "cell_type": "code",
   "execution_count": null,
   "metadata": {},
   "outputs": [],
   "source": [
    "# Display the frequency table of Genres\n",
    "display_table(android_final, -4)"
   ]
  },
  {
   "cell_type": "code",
   "execution_count": null,
   "metadata": {},
   "outputs": [],
   "source": [
    "# Display the frequency table of Category\n",
    "display_table(android_final, 1)"
   ]
  },
  {
   "cell_type": "code",
   "execution_count": null,
   "metadata": {},
   "outputs": [],
   "source": [
    "# Assigning the Apple apps and their genres to a new list\n",
    "genres_ios = freq_table(ios_final, -5)\n",
    "\n",
    "# Loop through the unique genres of the Apple data set to view the number of ratings\n",
    "# of the genres\n",
    "for genre in genres_ios:\n",
    "    total = 0\n",
    "    len_genre = 0\n",
    "    for app in ios_final:\n",
    "        genre_app = app[-5]\n",
    "        if genre_app == genre:            \n",
    "            n_ratings = float(app[5])\n",
    "            total += n_ratings\n",
    "            len_genre += 1\n",
    "    avg_n_ratings = total / len_genre\n",
    "    print(genre, ':', avg_n_ratings)"
   ]
  },
  {
   "cell_type": "code",
   "execution_count": null,
   "metadata": {},
   "outputs": [],
   "source": [
    "# Print the number of ratings of the Navigation genre\n",
    "for app in ios_final:\n",
    "    if app[-5] == 'Navigation':\n",
    "        print(app[1], ':', app[5]) "
   ]
  },
  {
   "cell_type": "code",
   "execution_count": null,
   "metadata": {},
   "outputs": [],
   "source": [
    "# Print the number of ratings of the Reference genre\n",
    "for app in ios_final:\n",
    "    if app[-5] == 'Reference':\n",
    "        print(app[1], ':', app[5])"
   ]
  },
  {
   "cell_type": "code",
   "execution_count": null,
   "metadata": {},
   "outputs": [],
   "source": [
    "# Display the Installs column of the Google app dataset\n",
    "display_table(android_final, 5)"
   ]
  },
  {
   "cell_type": "code",
   "execution_count": null,
   "metadata": {},
   "outputs": [],
   "source": [
    "# Assign the installation data to floats and remove additional characters\n",
    "categories_android = freq_table(android_final, 1)\n",
    "\n",
    "for category in categories_android:\n",
    "    total = 0\n",
    "    len_category = 0\n",
    "    for app in android_final:\n",
    "        category_app = app[1]\n",
    "        if category_app == category:            \n",
    "            n_installs = app[5]\n",
    "            n_installs = n_installs.replace(',', '')\n",
    "            n_installs = n_installs.replace('+', '')\n",
    "            total += float(n_installs)\n",
    "            len_category += 1\n",
    "    avg_n_installs = total / len_category\n",
    "    print(category, ':', avg_n_installs)"
   ]
  },
  {
   "cell_type": "code",
   "execution_count": null,
   "metadata": {},
   "outputs": [],
   "source": [
    "# Assign the communication category apps to scales of 1 million, 5 million, and 1 billioin installes\n",
    "for app in android_final:\n",
    "    if app[1] == 'COMMUNICATION' and (app[5] == '1,000,000,000+'\n",
    "                                      or app[5] == '500,000,000+'\n",
    "                                      or app[5] == '100,000,000+'):\n",
    "        print(app[0], ':', app[5])"
   ]
  },
  {
   "cell_type": "code",
   "execution_count": null,
   "metadata": {},
   "outputs": [],
   "source": [
    "# Assign the apps that have under a 100 million installs to a new list \n",
    "# Remove the apps that have under a 100 million installs\n"
   ]
  },
  {
   "cell_type": "code",
   "execution_count": null,
   "metadata": {},
   "outputs": [],
   "source": [
    "# Explore the Books and Reference category apps and their scales\n",
    "for app in android_final:\n",
    "    if app[1] == 'BOOKS_AND_REFERENCE':\n",
    "        print(app[0], ':', app[5])"
   ]
  },
  {
   "cell_type": "code",
   "execution_count": null,
   "metadata": {},
   "outputs": [],
   "source": [
    "# Check the highest ranking categories for the Books and Reference apps\n",
    "for app in android_final:\n",
    "    if app[1] == 'BOOKS_AND_REFERENCE' and (app[5] == '1,000,000,000+'\n",
    "                                            or app[5] == '500,000,000+'\n",
    "                                            or app[5] == '100,000,000+'):\n",
    "        print(app[0], ':', app[5])"
   ]
  },
  {
   "cell_type": "code",
   "execution_count": null,
   "metadata": {},
   "outputs": [],
   "source": [
    "for app in android_final:\n",
    "    if app[1] == 'BOOKS_AND_REFERENCE' and (app[5] == '1,000,000+'\n",
    "                                            or app[5] == '5,000,000+'\n",
    "                                            or app[5] == '10,000,000+'\n",
    "                                            or app[5] == '50,000,000+'):\n",
    "        print(app[0], ':', app[5])"
   ]
  }
 ],
 "metadata": {
  "kernelspec": {
   "display_name": "Python 3",
   "language": "python",
   "name": "python3"
  },
  "language_info": {
   "codemirror_mode": {
    "name": "ipython",
    "version": 3
   },
   "file_extension": ".py",
   "mimetype": "text/x-python",
   "name": "python",
   "nbconvert_exporter": "python",
   "pygments_lexer": "ipython3",
   "version": "3.7.6"
  }
 },
 "nbformat": 4,
 "nbformat_minor": 4
}
